{
 "cells": [
  {
   "cell_type": "code",
   "execution_count": 1,
   "id": "dcddfa64-bb95-48bc-8858-7466456c4043",
   "metadata": {
    "tags": []
   },
   "outputs": [
    {
     "name": "stderr",
     "output_type": "stream",
     "text": [
      "2023-04-11 17:21:14.472894: I tensorflow/core/platform/cpu_feature_guard.cc:193] This TensorFlow binary is optimized with oneAPI Deep Neural Network Library (oneDNN) to use the following CPU instructions in performance-critical operations:  AVX2 AVX_VNNI FMA\n",
      "To enable them in other operations, rebuild TensorFlow with the appropriate compiler flags.\n",
      "2023-04-11 17:21:14.533335: I tensorflow/core/util/port.cc:104] oneDNN custom operations are on. You may see slightly different numerical results due to floating-point round-off errors from different computation orders. To turn them off, set the environment variable `TF_ENABLE_ONEDNN_OPTS=0`.\n",
      "2023-04-11 17:21:14.881492: W tensorflow/compiler/xla/stream_executor/platform/default/dso_loader.cc:64] Could not load dynamic library 'libnvinfer.so.7'; dlerror: libnvinfer.so.7: cannot open shared object file: No such file or directory; LD_LIBRARY_PATH: :/usr/local/cuda-11.2/lib64:/usr/local/cuda-11.2/extras/CUPTI/lib64\n",
      "2023-04-11 17:21:14.881542: W tensorflow/compiler/xla/stream_executor/platform/default/dso_loader.cc:64] Could not load dynamic library 'libnvinfer_plugin.so.7'; dlerror: libnvinfer_plugin.so.7: cannot open shared object file: No such file or directory; LD_LIBRARY_PATH: :/usr/local/cuda-11.2/lib64:/usr/local/cuda-11.2/extras/CUPTI/lib64\n",
      "2023-04-11 17:21:14.881546: W tensorflow/compiler/tf2tensorrt/utils/py_utils.cc:38] TF-TRT Warning: Cannot dlopen some TensorRT libraries. If you would like to use Nvidia GPU with TensorRT, please make sure the missing libraries mentioned above are installed properly.\n"
     ]
    }
   ],
   "source": [
    "import tensorflow as tf;\n",
    "import matplotlib.pyplot as plt;\n",
    "import numpy as np;\n",
    "import os;"
   ]
  },
  {
   "cell_type": "code",
   "execution_count": 6,
   "id": "47378285-a611-4949-aa30-434092aa5cdf",
   "metadata": {
    "tags": []
   },
   "outputs": [
    {
     "name": "stdout",
     "output_type": "stream",
     "text": [
      "Found 332 files belonging to 10 classes.\n",
      "Using 266 files for training.\n",
      "Using 66 files for validation.\n"
     ]
    }
   ],
   "source": [
    "image_size=(28,28);\n",
    "\n",
    "train_ds, val_ds = tf.keras.utils.image_dataset_from_directory(\n",
    "    os.path.join(\"nums\"),\n",
    "    #随机取验证的数据\n",
    "    validation_split=0.2,\n",
    "    subset=\"both\",\n",
    "    seed=666,\n",
    "    color_mode='grayscale',\n",
    "    crop_to_aspect_ratio= False,\n",
    "    image_size=image_size,\n",
    ")\n",
    "\n",
    "def remake_image(img, label):\n",
    "    fixedImage = (img/(255/2.0));\n",
    "    return (fixedImage, label);\n",
    "\n",
    "train_ds = train_ds.map(map_func=remake_image, num_parallel_calls= tf.data.AUTOTUNE);\n",
    "train_ds = train_ds.prefetch(tf.data.AUTOTUNE)\n",
    "val_ds = val_ds.map(map_func=remake_image, num_parallel_calls= tf.data.AUTOTUNE);\n",
    "val_ds = val_ds.prefetch(tf.data.AUTOTUNE)"
   ]
  },
  {
   "cell_type": "code",
   "execution_count": 7,
   "id": "93ba13b4-e541-46f4-babd-e39c8f4ed755",
   "metadata": {
    "tags": []
   },
   "outputs": [
    {
     "data": {
      "image/png": "[encoded data removed]",
      "text/plain": [
       "<Figure size 640x480 with 18 Axes>"
      ]
     },
     "metadata": {},
     "output_type": "display_data"
    }
   ],
   "source": [
    "plt.figure(figsize=(6.4, 4.8))\n",
    "for images, labels in train_ds.take(1):\n",
    "    for i in range(9):\n",
    "        ax = plt.subplot(3, 3, i + 1)\n",
    "        #显示图片\n",
    "        plt.imshow(images[i])\n",
    "        plt.title(int(labels[i]))\n",
    "        plt.colorbar()\n",
    "        #不显示坐标\n",
    "        plt.axis(\"off\")"
   ]
  },
  {
   "cell_type": "code",
   "execution_count": 8,
   "id": "434340e7-8148-458b-b513-d5904f527c20",
   "metadata": {
    "tags": []
   },
   "outputs": [
    {
     "name": "stdout",
     "output_type": "stream",
     "text": [
      "Model: \"sequential\"\n",
      "_________________________________________________________________\n",
      " Layer (type)                Output Shape              Param #   \n",
      "=================================================================\n",
      " flatten (Flatten)           (None, 784)               0         \n",
      "                                                                 \n",
      " dense (Dense)               (None, 128)               100480    \n",
      "                                                                 \n",
      " dropout (Dropout)           (None, 128)               0         \n",
      "                                                                 \n",
      " dense_1 (Dense)             (None, 10)                1290      \n",
      "                                                                 \n",
      "=================================================================\n",
      "Total params: 101,770\n",
      "Trainable params: 101,770\n",
      "Non-trainable params: 0\n",
      "_________________________________________________________________\n",
      "Epoch 1/30\n",
      "9/9 [==============================] - 0s 9ms/step - loss: 1.1105 - accuracy: 0.6729 - val_loss: 1.0107 - val_accuracy: 0.6061\n",
      "Epoch 2/30\n",
      "9/9 [==============================] - 0s 3ms/step - loss: 0.5940 - accuracy: 0.8195 - val_loss: 0.8723 - val_accuracy: 0.6515\n",
      "Epoch 3/30\n",
      "9/9 [==============================] - 0s 4ms/step - loss: 0.3149 - accuracy: 0.9060 - val_loss: 0.6905 - val_accuracy: 0.7727\n",
      "Epoch 4/30\n",
      "9/9 [==============================] - 0s 5ms/step - loss: 0.2274 - accuracy: 0.9398 - val_loss: 0.6288 - val_accuracy: 0.7879\n",
      "Epoch 5/30\n",
      "9/9 [==============================] - 0s 4ms/step - loss: 0.1447 - accuracy: 0.9624 - val_loss: 0.6031 - val_accuracy: 0.8030\n",
      "Epoch 6/30\n",
      "9/9 [==============================] - 0s 4ms/step - loss: 0.1077 - accuracy: 0.9812 - val_loss: 0.5836 - val_accuracy: 0.8333\n",
      "Epoch 7/30\n",
      "9/9 [==============================] - 0s 4ms/step - loss: 0.0833 - accuracy: 0.9887 - val_loss: 0.5718 - val_accuracy: 0.8485\n",
      "Epoch 8/30\n",
      "9/9 [==============================] - 0s 4ms/step - loss: 0.0804 - accuracy: 0.9887 - val_loss: 0.5622 - val_accuracy: 0.8485\n",
      "Epoch 9/30\n",
      "9/9 [==============================] - 0s 4ms/step - loss: 0.0687 - accuracy: 0.9887 - val_loss: 0.5602 - val_accuracy: 0.8485\n",
      "Epoch 10/30\n",
      "9/9 [==============================] - 0s 3ms/step - loss: 0.0518 - accuracy: 0.9962 - val_loss: 0.5717 - val_accuracy: 0.8485\n",
      "Epoch 11/30\n",
      "9/9 [==============================] - 0s 3ms/step - loss: 0.0350 - accuracy: 1.0000 - val_loss: 0.5786 - val_accuracy: 0.8485\n",
      "Epoch 12/30\n",
      "9/9 [==============================] - 0s 3ms/step - loss: 0.0435 - accuracy: 1.0000 - val_loss: 0.5788 - val_accuracy: 0.8485\n",
      "Epoch 13/30\n",
      "9/9 [==============================] - 0s 3ms/step - loss: 0.0350 - accuracy: 1.0000 - val_loss: 0.5783 - val_accuracy: 0.8485\n",
      "Epoch 14/30\n",
      "9/9 [==============================] - 0s 4ms/step - loss: 0.0288 - accuracy: 1.0000 - val_loss: 0.5734 - val_accuracy: 0.8636\n",
      "Epoch 15/30\n",
      "9/9 [==============================] - 0s 3ms/step - loss: 0.0309 - accuracy: 1.0000 - val_loss: 0.5660 - val_accuracy: 0.8636\n",
      "Epoch 16/30\n",
      "9/9 [==============================] - 0s 3ms/step - loss: 0.0261 - accuracy: 1.0000 - val_loss: 0.5563 - val_accuracy: 0.8788\n",
      "Epoch 17/30\n",
      "9/9 [==============================] - 0s 3ms/step - loss: 0.0299 - accuracy: 1.0000 - val_loss: 0.5696 - val_accuracy: 0.8788\n",
      "Epoch 18/30\n",
      "9/9 [==============================] - 0s 3ms/step - loss: 0.0268 - accuracy: 0.9962 - val_loss: 0.5938 - val_accuracy: 0.8636\n",
      "Epoch 19/30\n",
      "9/9 [==============================] - 0s 3ms/step - loss: 0.0214 - accuracy: 1.0000 - val_loss: 0.6001 - val_accuracy: 0.8636\n",
      "Epoch 20/30\n",
      "9/9 [==============================] - 0s 3ms/step - loss: 0.0233 - accuracy: 1.0000 - val_loss: 0.5974 - val_accuracy: 0.8636\n",
      "Epoch 21/30\n",
      "9/9 [==============================] - 0s 3ms/step - loss: 0.0194 - accuracy: 1.0000 - val_loss: 0.5943 - val_accuracy: 0.8636\n",
      "Epoch 22/30\n",
      "9/9 [==============================] - 0s 3ms/step - loss: 0.0192 - accuracy: 1.0000 - val_loss: 0.5918 - val_accuracy: 0.8636\n",
      "Epoch 23/30\n",
      "9/9 [==============================] - 0s 3ms/step - loss: 0.0151 - accuracy: 1.0000 - val_loss: 0.5905 - val_accuracy: 0.8636\n",
      "Epoch 24/30\n",
      "9/9 [==============================] - 0s 4ms/step - loss: 0.0194 - accuracy: 1.0000 - val_loss: 0.5899 - val_accuracy: 0.8636\n",
      "Epoch 25/30\n",
      "9/9 [==============================] - 0s 6ms/step - loss: 0.0141 - accuracy: 1.0000 - val_loss: 0.5865 - val_accuracy: 0.8636\n",
      "Epoch 26/30\n",
      "9/9 [==============================] - 0s 7ms/step - loss: 0.0164 - accuracy: 1.0000 - val_loss: 0.5864 - val_accuracy: 0.8788\n",
      "Epoch 27/30\n",
      "9/9 [==============================] - 0s 4ms/step - loss: 0.0150 - accuracy: 1.0000 - val_loss: 0.5927 - val_accuracy: 0.8788\n",
      "Epoch 28/30\n",
      "9/9 [==============================] - 0s 3ms/step - loss: 0.0142 - accuracy: 1.0000 - val_loss: 0.5959 - val_accuracy: 0.8788\n",
      "Epoch 29/30\n",
      "9/9 [==============================] - 0s 6ms/step - loss: 0.0198 - accuracy: 1.0000 - val_loss: 0.5901 - val_accuracy: 0.8636\n",
      "Epoch 30/30\n",
      "9/9 [==============================] - 0s 3ms/step - loss: 0.0157 - accuracy: 1.0000 - val_loss: 0.5887 - val_accuracy: 0.8636\n",
      "Model: \"sequential\"\n",
      "_________________________________________________________________\n",
      " Layer (type)                Output Shape              Param #   \n",
      "=================================================================\n",
      " flatten (Flatten)           (None, 784)               0         \n",
      "                                                                 \n",
      " dense (Dense)               (None, 128)               100480    \n",
      "                                                                 \n",
      " dropout (Dropout)           (None, 128)               0         \n",
      "                                                                 \n",
      " dense_1 (Dense)             (None, 10)                1290      \n",
      "                                                                 \n",
      "=================================================================\n",
      "Total params: 101,770\n",
      "Trainable params: 101,770\n",
      "Non-trainable params: 0\n",
      "_________________________________________________________________\n"
     ]
    }
   ],
   "source": [
    "resultFilePath = 'number_check.h5';\n",
    "\n",
    "model = tf.keras.models.load_model(resultFilePath);\n",
    "\n",
    "model.summary();\n",
    "\n",
    "#继续深入学习\n",
    "model.fit(\n",
    "    x = train_ds, \n",
    "    callbacks=tf.keras.callbacks.ModelCheckpoint('number_check.h5', save_best_only=True),\n",
    "    validation_data=val_ds,\n",
    "    epochs=30,\n",
    ")\n",
    "\n",
    "model.summary();"
   ]
  },
  {
   "cell_type": "code",
   "execution_count": 9,
   "id": "d1dd309a-0ea7-4f45-b71a-bf826617b936",
   "metadata": {
    "tags": []
   },
   "outputs": [
    {
     "name": "stdout",
     "output_type": "stream",
     "text": [
      "313/313 - 0s - loss: 42.0852 - accuracy: 0.9293 - 152ms/epoch - 485us/step\n",
      "loss: 42.085\n",
      "accuracy: 0.929\n"
     ]
    }
   ],
   "source": [
    "mnist = tf.keras.datasets.mnist\n",
    "import numpy as np\n",
    "\n",
    "(x_train, y_train), (x_test, y_test) = mnist.load_data()\n",
    "\n",
    "results = model.evaluate(x_test,  y_test, verbose=2)\n",
    "\n",
    "for name, value in zip(model.metrics_names, results):\n",
    "  print(\"%s: %.3f\" % (name, value))"
   ]
  },
  {
   "cell_type": "code",
   "execution_count": null,
   "id": "6b8d7252-c764-49c7-b996-dfc11c8c7ae3",
   "metadata": {},
   "outputs": [],
   "source": []
  }
 ],
 "metadata": {
  "kernelspec": {
   "display_name": "Python 3 (ipykernel)",
   "language": "python",
   "name": "python3"
  },
  "language_info": {
   "codemirror_mode": {
    "name": "ipython",
    "version": 3
   },
   "file_extension": ".py",
   "mimetype": "text/x-python",
   "name": "python",
   "nbconvert_exporter": "python",
   "pygments_lexer": "ipython3",
   "version": "3.10.6"
  }
 },
 "nbformat": 4,
 "nbformat_minor": 5
}
